{
 "cells": [
  {
   "cell_type": "code",
   "execution_count": 23,
   "metadata": {},
   "outputs": [],
   "source": [
    "import torch\n",
    "import torch.nn as nn\n",
    "from torch.utils.tensorboard import SummaryWriter  # 导入tensorboard的类\n",
    "\n",
    "# 定义神经网络模型\n",
    "net = nn.Sequential(\n",
    "    nn.Linear(10, 20),\n",
    "    nn.ReLU(),\n",
    "    nn.Linear(20, 2)\n",
    ")\n",
    "\n",
    "# 定义损失函数\n",
    "criterion = nn.CrossEntropyLoss()\n",
    "\n",
    "# 定义输入输出数据\n",
    "input = torch.randn(32, 10)\n",
    "target = torch.randint(2, (32,), dtype=torch.long)\n",
    "\n",
    "# 定义优化器\n",
    "optimizer = torch.optim.SGD(net.parameters(), lr=0.01)\n",
    "\n",
    "# 定义SummaryWriter，log_dir是日志文件存储路径\n",
    "writer = SummaryWriter(log_dir='/home/leyuquan/projects/LegalNLU/logs/tensorboard_logs/test')\n",
    "\n",
    "# 将模型结构写入 TensorBoard。TODO: 输入不为tensor是否也可以显示模型结构？\n",
    "writer.add_graph(net, torch.zeros([1, 10]))\n",
    "\n",
    "# 训练过程\n",
    "for epoch in range(100):\n",
    "    output = net(input)\n",
    "    loss = criterion(output, target)\n",
    "\n",
    "    optimizer.zero_grad()\n",
    "    loss.backward()\n",
    "    optimizer.step()\n",
    "\n",
    "    # 记录训练集的step loss数据到tensorboard\n",
    "    writer.add_scalar('train_loss', loss.item(), epoch)\n",
    "\n",
    "# 关闭SummaryWriter\n",
    "writer.close()\n",
    "\n",
    "# 页面启动tensorboard命令：tensorboard --logdir=/path/to/log --host=localhost --port=6606 --samples_per_plugin images=999 "
   ]
  },
  {
   "cell_type": "code",
   "execution_count": 22,
   "metadata": {},
   "outputs": [
    {
     "data": {
      "image/png": "[encoded data removed]",
      "text/plain": [
       "<Figure size 432x288 with 1 Axes>"
      ]
     },
     "metadata": {
      "needs_background": "light"
     },
     "output_type": "display_data"
    }
   ],
   "source": [
    "import numpy as np\n",
    "import matplotlib.pyplot as plt\n",
    "from tensorboard.backend.event_processing.event_accumulator import EventAccumulator\n",
    "\n",
    "# 定义函数，从 TensorBoard 日志文件中读取 scalar 数据\n",
    "def load_event_file(log_path):\n",
    "    event_acc = EventAccumulator(log_path)\n",
    "    event_acc.Reload()\n",
    "    tags = event_acc.Tags()['scalars']\n",
    "    data = {'steps': [], 'values': []}\n",
    "    for tag in tags:\n",
    "        events = event_acc.Scalars(tag)\n",
    "        data['steps'].append([event.step for event in events])\n",
    "        data['values'].append([event.value for event in events])\n",
    "    return data\n",
    "\n",
    "# 从 TensorBoard 日志文件中读取数据\n",
    "log_path = '/home/leyuquan/projects/LegalNLU/logs/tensorboard_logs/test'\n",
    "data = load_event_file(log_path)\n",
    "steps = np.concatenate(data['steps'], axis=0)\n",
    "loss = np.concatenate(data['values'], axis=0)\n",
    "\n",
    "# 使用 matplotlib 绘制 loss 下降的图形\n",
    "plt.plot(steps, loss)\n",
    "plt.xlabel('Step')\n",
    "plt.ylabel('Loss')\n",
    "plt.title('Training Loss Curve')\n",
    "plt.savefig('/home/leyuquan/projects/LegalNLU/logs/tensorboard_logs/test/loss.png', dpi=300, bbox_inches='tight')\n"
   ]
  },
  {
   "cell_type": "markdown",
   "metadata": {},
   "source": []
  }
 ],
 "metadata": {
  "kernelspec": {
   "display_name": "py3.8_torch1.9",
   "language": "python",
   "name": "python3"
  },
  "language_info": {
   "codemirror_mode": {
    "name": "ipython",
    "version": 3
   },
   "file_extension": ".py",
   "mimetype": "text/x-python",
   "name": "python",
   "nbconvert_exporter": "python",
   "pygments_lexer": "ipython3",
   "version": "3.8.12"
  },
  "orig_nbformat": 4,
  "vscode": {
   "interpreter": {
    "hash": "329c71a17a859daa0e265345ed8eb852d591cedcc63530b6fc289d3036f750be"
   }
  }
 },
 "nbformat": 4,
 "nbformat_minor": 2
}
